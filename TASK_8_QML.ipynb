{
  "nbformat": 4,
  "nbformat_minor": 0,
  "metadata": {
    "colab": {
      "provenance": [],
      "authorship_tag": "ABX9TyOIUujsGbDkRA/T5C3b32yd",
      "include_colab_link": true
    },
    "kernelspec": {
      "name": "python3",
      "display_name": "Python 3"
    },
    "language_info": {
      "name": "python"
    }
  },
  "cells": [
    {
      "cell_type": "markdown",
      "metadata": {
        "id": "view-in-github",
        "colab_type": "text"
      },
      "source": [
        "<a href=\"https://colab.research.google.com/github/Yash8743/qml/blob/main/TASK_8_QML.ipynb\" target=\"_parent\"><img src=\"https://colab.research.google.com/assets/colab-badge.svg\" alt=\"Open In Colab\"/></a>"
      ]
    },
    {
      "cell_type": "markdown",
      "source": [
        "**TASK 8: Grover’s algorithm for a 3-qubits database**"
      ],
      "metadata": {
        "id": "xkGzJsuUIDP6"
      }
    },
    {
      "cell_type": "markdown",
      "source": [
        "**Aim:**\n",
        "To implement Grover’s quantum search algorithm for a 3-qubit search space (8 items)\n",
        "using Cirq, and demonstrate that the marked item (target state) can be found with high\n",
        "probability after the optimal number of iterations.\n"
      ],
      "metadata": {
        "id": "W2D8o2yqIHca"
      }
    },
    {
      "cell_type": "markdown",
      "source": [
        "**Mathematical Model of the Grover’s algorithm for a 3-qubits database**\n",
        "\n",
        "Database size: Search space 𝑁 = 2ଷ = 8 elements represented by 3-qubit basis states\n",
        "{∣000⟩,∣001⟩,…,∣111⟩}.\n",
        "\n",
        "Target: A basis state |w⟩, here chosen as |101⟩.\n",
        " Initial State: Equal superposition ∣ S⟩=\n",
        "1\n",
        "ඥN\n",
        "∑ (∣ x⟩) N−1\n",
        "x=0 =\n",
        "1\n",
        "ඥ8\n",
        "∑ (∣ x⟩)\n",
        "7\n",
        "x=0 created by\n",
        "applying Hadamard gates on all 3 qubits.\n",
        "\n",
        " Oracle: f(x) = 1 if x = x′ (the “marked” target), 0 otherwise.\n",
        "\n",
        " Diffusion operator: Inversion about the mean, realized by Hadamard gates, X gates,\n",
        "multi-controlled Z, and reversing these gates.\n",
        "\n",
        " Grover operator: G = D.O.\n",
        "\n",
        " Grover Iterations: Apply oracle + diffusion operator approximately 𝑟 =\n",
        "గ\n",
        "ସ\n",
        "ට\n",
        "ே\n",
        "ெ\n",
        " times to\n",
        "amplify the amplitude of the marked state.\n",
        "For N = 8, M=1, r = 2.\n",
        "\n",
        " Measurement: Measurement of all qubits follows iterations, producing bit strings with\n",
        "probability concentrated on the marked state."
      ],
      "metadata": {
        "id": "6IW5tSNtINys"
      }
    },
    {
      "cell_type": "markdown",
      "source": [
        "**Algorithm - Grover’s algorithm for a 3-qubits database**\n",
        "1. Initialize 3 qubits to ∣0⟩.\n",
        "\n",
        "2. Create uniform superposition by Hadamard gates H⊗3.\n",
        "\n",
        "3. Repeat k = 2 times:\n",
        "o Apply oracle marking the target bit string with phase flip on the marked state.\n",
        "o Apply diffusion operator (inversion about the mean).\n",
        "\n",
        "4. Measure the qubits to obtain results peaked at the target state with high probability."
      ],
      "metadata": {
        "id": "2g4hUe6fIePK"
      }
    },
    {
      "cell_type": "markdown",
      "source": [
        "**Program:**"
      ],
      "metadata": {
        "id": "Y-s5kl8kIoJp"
      }
    },
    {
      "cell_type": "code",
      "source": [
        "!pip install cirq\n",
        "import cirq\n",
        "import numpy as np\n",
        "import matplotlib.pyplot as plt\n",
        "def grover_3_qubit(target_binary):\n",
        " qubits = [cirq.GridQubit(0, i) for i in range(3)]\n",
        " circuit = cirq.Circuit()\n",
        " # Initialize superposition\n",
        " circuit.append(cirq.H.on_each(*qubits))\n",
        " # Removed: circuit.append(cirq.Barrier(*qubits)) # Barrier after initialization\n",
        " # Number of Grover iterations\n",
        " N = 2 ** 3\n",
        " iterations = int(np.floor(np.pi/4 * np.sqrt(N)))\n",
        " for iteration in range(iterations):\n",
        " # Oracle\n",
        "  apply_oracle(circuit, qubits, target_binary)\n",
        " # Removed: circuit.append(cirq.Barrier(*qubits)) # Barrier after oracle\n",
        " # Diffusion\n",
        "  apply_diffusion(circuit, qubits)\n",
        " # Removed: circuit.append(cirq.Barrier(*qubits)) # Barrier after diffusion\n",
        " # Measurement\n",
        " circuit.append(cirq.measure(*qubits, key='result'))\n",
        " return circuit, qubits\n",
        "def apply_oracle(circuit, qubits, target_binary):\n",
        " # Apply X gates where target bit is 0\n",
        " for i, bit in enumerate(target_binary):\n",
        "  if bit == '0':\n",
        "   circuit.append(cirq.X(qubits[i]))\n",
        " # Multi-controlled Z using H and CCX\n",
        " circuit.append(cirq.H(qubits[-1]))\n",
        " # The CCX gate expects a sequence of qubits\n",
        " circuit.append(cirq.CCX(qubits[0], qubits[1], qubits[2]))\n",
        " circuit.append(cirq.H(qubits[-1]))\n",
        " # Undo X gates\n",
        " for i, bit in enumerate(target_binary):\n",
        "  if bit == '0':\n",
        "   circuit.append(cirq.X(qubits[i]))\n",
        "def apply_diffusion(circuit, qubits):\n",
        " circuit.append(cirq.H.on_each(*qubits))\n",
        " circuit.append(cirq.X.on_each(*qubits))\n",
        " circuit.append(cirq.H(qubits[-1]))\n",
        " # The CCX gate expects a sequence of qubits\n",
        " circuit.append(cirq.CCX(qubits[0], qubits[1], qubits[2]))\n",
        " circuit.append(cirq.H(qubits[-1]))\n",
        " circuit.append(cirq.X.on_each(*qubits))\n",
        " circuit.append(cirq.H.on_each(*qubits))\n",
        "def analyze_results(counts, target):\n",
        " total = sum(counts.values())\n",
        " success = counts.get(int(target, 2), 0)\n",
        " success_rate = success / total * 100\n",
        " print(f\"Measurement results for target |{target}>:\")\n",
        " for state in range(8):\n",
        "  bitstr = format(state, '03b')\n",
        "  count = counts.get(state, 0)\n",
        "  pct = count / total * 100\n",
        "  marker = \"<-- Target\" if bitstr == target else \"\"\n",
        "  print(f\"State |{bitstr}>: {count} times ({pct:.2f}%) {marker}\")\n",
        " print(f\"\\nSuccess rate: {success_rate:.2f}% (optimal ~94% after 2 iterations)\")\n",
        " states = [format(i, '03b') for i in range(8)]\n",
        " values = [counts.get(i, 0) for i in range(8)]\n",
        " colors = ['red' if s == target else 'blue' for s in states]\n",
        " plt.bar(states, values, color=colors)\n",
        " plt.title(f\"Grover's Algorithm Results (Target: |{target}>)\")\n",
        " plt.xlabel(\"States\")\n",
        " plt.ylabel(\"Counts\")\n",
        " plt.show()\n",
        "if __name__ == \"__main__\":\n",
        " target = \"101\"\n",
        " circuit, qubits = grover_3_qubit(target)\n",
        " print(\"Circuit diagram:\")\n",
        " print(circuit)\n",
        " simulator = cirq.Simulator()\n",
        " result = simulator.run(circuit, repetitions=1000)\n",
        " counts = result.histogram(key='result')\n",
        " analyze_results(counts, target)"
      ],
      "metadata": {
        "colab": {
          "base_uri": "https://localhost:8080/",
          "height": 1000
        },
        "id": "eLKzn66xnBWl",
        "outputId": "322f4c2a-36fb-42d6-af31-d89f419c3717"
      },
      "execution_count": null,
      "outputs": [
        {
          "output_type": "stream",
          "name": "stdout",
          "text": [
            "Collecting cirq\n",
            "  Downloading cirq-1.6.1-py3-none-any.whl.metadata (16 kB)\n",
            "Collecting cirq-aqt==1.6.1 (from cirq)\n",
            "  Downloading cirq_aqt-1.6.1-py3-none-any.whl.metadata (4.7 kB)\n",
            "Collecting cirq-core==1.6.1 (from cirq)\n",
            "  Downloading cirq_core-1.6.1-py3-none-any.whl.metadata (4.8 kB)\n",
            "Collecting cirq-google==1.6.1 (from cirq)\n",
            "  Downloading cirq_google-1.6.1-py3-none-any.whl.metadata (4.9 kB)\n",
            "Collecting cirq-ionq==1.6.1 (from cirq)\n",
            "  Downloading cirq_ionq-1.6.1-py3-none-any.whl.metadata (4.7 kB)\n",
            "Collecting cirq-pasqal==1.6.1 (from cirq)\n",
            "  Downloading cirq_pasqal-1.6.1-py3-none-any.whl.metadata (4.7 kB)\n",
            "Collecting cirq-web==1.6.1 (from cirq)\n",
            "  Downloading cirq_web-1.6.1-py3-none-any.whl.metadata (5.4 kB)\n",
            "Requirement already satisfied: requests~=2.32 in /usr/local/lib/python3.12/dist-packages (from cirq-aqt==1.6.1->cirq) (2.32.4)\n",
            "Requirement already satisfied: attrs>=21.3.0 in /usr/local/lib/python3.12/dist-packages (from cirq-core==1.6.1->cirq) (25.3.0)\n",
            "Collecting duet>=0.2.8 (from cirq-core==1.6.1->cirq)\n",
            "  Downloading duet-0.2.9-py3-none-any.whl.metadata (2.3 kB)\n",
            "Requirement already satisfied: matplotlib~=3.8 in /usr/local/lib/python3.12/dist-packages (from cirq-core==1.6.1->cirq) (3.10.0)\n",
            "Requirement already satisfied: networkx~=3.4 in /usr/local/lib/python3.12/dist-packages (from cirq-core==1.6.1->cirq) (3.5)\n",
            "Requirement already satisfied: numpy>=1.26 in /usr/local/lib/python3.12/dist-packages (from cirq-core==1.6.1->cirq) (2.0.2)\n",
            "Requirement already satisfied: pandas~=2.1 in /usr/local/lib/python3.12/dist-packages (from cirq-core==1.6.1->cirq) (2.2.2)\n",
            "Requirement already satisfied: sortedcontainers~=2.0 in /usr/local/lib/python3.12/dist-packages (from cirq-core==1.6.1->cirq) (2.4.0)\n",
            "Requirement already satisfied: scipy~=1.12 in /usr/local/lib/python3.12/dist-packages (from cirq-core==1.6.1->cirq) (1.16.1)\n",
            "Requirement already satisfied: sympy in /usr/local/lib/python3.12/dist-packages (from cirq-core==1.6.1->cirq) (1.13.3)\n",
            "Requirement already satisfied: typing_extensions>=4.2 in /usr/local/lib/python3.12/dist-packages (from cirq-core==1.6.1->cirq) (4.15.0)\n",
            "Requirement already satisfied: tqdm>=4.12 in /usr/local/lib/python3.12/dist-packages (from cirq-core==1.6.1->cirq) (4.67.1)\n",
            "Requirement already satisfied: google-api-core~=2.22 in /usr/local/lib/python3.12/dist-packages (from google-api-core[grpc]~=2.22->cirq-google==1.6.1->cirq) (2.25.1)\n",
            "Requirement already satisfied: proto-plus~=1.25 in /usr/local/lib/python3.12/dist-packages (from cirq-google==1.6.1->cirq) (1.26.1)\n",
            "Requirement already satisfied: protobuf<6.0dev,>=5.26.1 in /usr/local/lib/python3.12/dist-packages (from cirq-google==1.6.1->cirq) (5.29.5)\n",
            "Collecting typedunits (from cirq-google==1.6.1->cirq)\n",
            "  Downloading typedunits-0.0.1.dev20250903181955-cp312-cp312-manylinux_2_17_x86_64.manylinux2014_x86_64.whl.metadata (4.8 kB)\n",
            "Requirement already satisfied: googleapis-common-protos<2.0.0,>=1.56.2 in /usr/local/lib/python3.12/dist-packages (from google-api-core~=2.22->google-api-core[grpc]~=2.22->cirq-google==1.6.1->cirq) (1.70.0)\n",
            "Requirement already satisfied: google-auth<3.0.0,>=2.14.1 in /usr/local/lib/python3.12/dist-packages (from google-api-core~=2.22->google-api-core[grpc]~=2.22->cirq-google==1.6.1->cirq) (2.38.0)\n",
            "Requirement already satisfied: grpcio<2.0.0,>=1.33.2 in /usr/local/lib/python3.12/dist-packages (from google-api-core[grpc]~=2.22->cirq-google==1.6.1->cirq) (1.74.0)\n",
            "Requirement already satisfied: grpcio-status<2.0.0,>=1.33.2 in /usr/local/lib/python3.12/dist-packages (from google-api-core[grpc]~=2.22->cirq-google==1.6.1->cirq) (1.71.2)\n",
            "Requirement already satisfied: contourpy>=1.0.1 in /usr/local/lib/python3.12/dist-packages (from matplotlib~=3.8->cirq-core==1.6.1->cirq) (1.3.3)\n",
            "Requirement already satisfied: cycler>=0.10 in /usr/local/lib/python3.12/dist-packages (from matplotlib~=3.8->cirq-core==1.6.1->cirq) (0.12.1)\n",
            "Requirement already satisfied: fonttools>=4.22.0 in /usr/local/lib/python3.12/dist-packages (from matplotlib~=3.8->cirq-core==1.6.1->cirq) (4.59.2)\n",
            "Requirement already satisfied: kiwisolver>=1.3.1 in /usr/local/lib/python3.12/dist-packages (from matplotlib~=3.8->cirq-core==1.6.1->cirq) (1.4.9)\n",
            "Requirement already satisfied: packaging>=20.0 in /usr/local/lib/python3.12/dist-packages (from matplotlib~=3.8->cirq-core==1.6.1->cirq) (25.0)\n",
            "Requirement already satisfied: pillow>=8 in /usr/local/lib/python3.12/dist-packages (from matplotlib~=3.8->cirq-core==1.6.1->cirq) (11.3.0)\n",
            "Requirement already satisfied: pyparsing>=2.3.1 in /usr/local/lib/python3.12/dist-packages (from matplotlib~=3.8->cirq-core==1.6.1->cirq) (3.2.3)\n",
            "Requirement already satisfied: python-dateutil>=2.7 in /usr/local/lib/python3.12/dist-packages (from matplotlib~=3.8->cirq-core==1.6.1->cirq) (2.9.0.post0)\n",
            "Requirement already satisfied: pytz>=2020.1 in /usr/local/lib/python3.12/dist-packages (from pandas~=2.1->cirq-core==1.6.1->cirq) (2025.2)\n",
            "Requirement already satisfied: tzdata>=2022.7 in /usr/local/lib/python3.12/dist-packages (from pandas~=2.1->cirq-core==1.6.1->cirq) (2025.2)\n",
            "Requirement already satisfied: charset_normalizer<4,>=2 in /usr/local/lib/python3.12/dist-packages (from requests~=2.32->cirq-aqt==1.6.1->cirq) (3.4.3)\n",
            "Requirement already satisfied: idna<4,>=2.5 in /usr/local/lib/python3.12/dist-packages (from requests~=2.32->cirq-aqt==1.6.1->cirq) (3.10)\n",
            "Requirement already satisfied: urllib3<3,>=1.21.1 in /usr/local/lib/python3.12/dist-packages (from requests~=2.32->cirq-aqt==1.6.1->cirq) (2.5.0)\n",
            "Requirement already satisfied: certifi>=2017.4.17 in /usr/local/lib/python3.12/dist-packages (from requests~=2.32->cirq-aqt==1.6.1->cirq) (2025.8.3)\n",
            "Requirement already satisfied: mpmath<1.4,>=1.1.0 in /usr/local/lib/python3.12/dist-packages (from sympy->cirq-core==1.6.1->cirq) (1.3.0)\n",
            "Requirement already satisfied: cython>=3.0.0 in /usr/local/lib/python3.12/dist-packages (from typedunits->cirq-google==1.6.1->cirq) (3.0.12)\n",
            "Requirement already satisfied: cachetools<6.0,>=2.0.0 in /usr/local/lib/python3.12/dist-packages (from google-auth<3.0.0,>=2.14.1->google-api-core~=2.22->google-api-core[grpc]~=2.22->cirq-google==1.6.1->cirq) (5.5.2)\n",
            "Requirement already satisfied: pyasn1-modules>=0.2.1 in /usr/local/lib/python3.12/dist-packages (from google-auth<3.0.0,>=2.14.1->google-api-core~=2.22->google-api-core[grpc]~=2.22->cirq-google==1.6.1->cirq) (0.4.2)\n",
            "Requirement already satisfied: rsa<5,>=3.1.4 in /usr/local/lib/python3.12/dist-packages (from google-auth<3.0.0,>=2.14.1->google-api-core~=2.22->google-api-core[grpc]~=2.22->cirq-google==1.6.1->cirq) (4.9.1)\n",
            "Requirement already satisfied: six>=1.5 in /usr/local/lib/python3.12/dist-packages (from python-dateutil>=2.7->matplotlib~=3.8->cirq-core==1.6.1->cirq) (1.17.0)\n",
            "Requirement already satisfied: pyasn1<0.7.0,>=0.6.1 in /usr/local/lib/python3.12/dist-packages (from pyasn1-modules>=0.2.1->google-auth<3.0.0,>=2.14.1->google-api-core~=2.22->google-api-core[grpc]~=2.22->cirq-google==1.6.1->cirq) (0.6.1)\n",
            "Downloading cirq-1.6.1-py3-none-any.whl (11 kB)\n",
            "Downloading cirq_aqt-1.6.1-py3-none-any.whl (32 kB)\n",
            "Downloading cirq_core-1.6.1-py3-none-any.whl (2.0 MB)\n",
            "\u001b[2K   \u001b[90m━━━━━━━━━━━━━━━━━━━━━━━━━━━━━━━━━━━━━━━━\u001b[0m \u001b[32m2.0/2.0 MB\u001b[0m \u001b[31m22.7 MB/s\u001b[0m eta \u001b[36m0:00:00\u001b[0m\n",
            "\u001b[?25hDownloading cirq_google-1.6.1-py3-none-any.whl (670 kB)\n",
            "\u001b[2K   \u001b[90m━━━━━━━━━━━━━━━━━━━━━━━━━━━━━━━━━━━━━━━━\u001b[0m \u001b[32m670.8/670.8 kB\u001b[0m \u001b[31m38.4 MB/s\u001b[0m eta \u001b[36m0:00:00\u001b[0m\n",
            "\u001b[?25hDownloading cirq_ionq-1.6.1-py3-none-any.whl (73 kB)\n",
            "\u001b[2K   \u001b[90m━━━━━━━━━━━━━━━━━━━━━━━━━━━━━━━━━━━━━━━━\u001b[0m \u001b[32m73.5/73.5 kB\u001b[0m \u001b[31m6.8 MB/s\u001b[0m eta \u001b[36m0:00:00\u001b[0m\n",
            "\u001b[?25hDownloading cirq_pasqal-1.6.1-py3-none-any.whl (33 kB)\n",
            "Downloading cirq_web-1.6.1-py3-none-any.whl (430 kB)\n",
            "\u001b[2K   \u001b[90m━━━━━━━━━━━━━━━━━━━━━━━━━━━━━━━━━━━━━━━━\u001b[0m \u001b[32m430.5/430.5 kB\u001b[0m \u001b[31m35.1 MB/s\u001b[0m eta \u001b[36m0:00:00\u001b[0m\n",
            "\u001b[?25hDownloading duet-0.2.9-py3-none-any.whl (29 kB)\n",
            "Downloading typedunits-0.0.1.dev20250903181955-cp312-cp312-manylinux_2_17_x86_64.manylinux2014_x86_64.whl (2.6 MB)\n",
            "\u001b[2K   \u001b[90m━━━━━━━━━━━━━━━━━━━━━━━━━━━━━━━━━━━━━━━━\u001b[0m \u001b[32m2.6/2.6 MB\u001b[0m \u001b[31m79.6 MB/s\u001b[0m eta \u001b[36m0:00:00\u001b[0m\n",
            "\u001b[?25hInstalling collected packages: typedunits, duet, cirq-core, cirq-web, cirq-pasqal, cirq-ionq, cirq-aqt, cirq-google, cirq\n",
            "Successfully installed cirq-1.6.1 cirq-aqt-1.6.1 cirq-core-1.6.1 cirq-google-1.6.1 cirq-ionq-1.6.1 cirq-pasqal-1.6.1 cirq-web-1.6.1 duet-0.2.9 typedunits-0.0.1.dev20250903181955\n",
            "Circuit diagram:\n",
            "(0, 0): ───H───────@───H───X───────────@───X───H───────────@───H───X───────────@───X───H───────M('result')───\n",
            "                   │                   │                   │                   │               │\n",
            "(0, 1): ───H───X───@───X───H───X───────@───X───H───X───────@───X───H───X───────@───X───H───────M─────────────\n",
            "                   │                   │                   │                   │               │\n",
            "(0, 2): ───H───H───X───H───H───X───H───X───H───X───H───H───X───H───H───X───H───X───H───X───H───M─────────────\n",
            "Measurement results for target |101>:\n",
            "State |000>: 10 times (1.00%) \n",
            "State |001>: 11 times (1.10%) \n",
            "State |010>: 8 times (0.80%) \n",
            "State |011>: 7 times (0.70%) \n",
            "State |100>: 6 times (0.60%) \n",
            "State |101>: 945 times (94.50%) <-- Target\n",
            "State |110>: 6 times (0.60%) \n",
            "State |111>: 7 times (0.70%) \n",
            "\n",
            "Success rate: 94.50% (optimal ~94% after 2 iterations)\n"
          ]
        },
        {
          "output_type": "display_data",
          "data": {
            "text/plain": [
              "<Figure size 640x480 with 1 Axes>"
            ],
            "image/png": "[encoded data removed]"
          },
          "metadata": {}
        }
      ]
    },
    {
      "cell_type": "markdown",
      "source": [
        "**Result:**\n",
        "The successful implementation of Grover's algorithm for a 3-qubit database validates the\n",
        "theoretical foundations of quantum search algorithms and provides a practical demonstration of\n",
        "quantum computing potential for solving problems more efficiently than classical computers  "
      ],
      "metadata": {
        "id": "L_odTV4cIsna"
      }
    }
  ]
}