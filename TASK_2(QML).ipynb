{
  "nbformat": 4,
  "nbformat_minor": 0,
  "metadata": {
    "colab": {
      "provenance": [],
      "authorship_tag": "ABX9TyPxzeOfXy0eeDkgO8oTSaR+",
      "include_colab_link": true
    },
    "kernelspec": {
      "name": "python3",
      "display_name": "Python 3"
    },
    "language_info": {
      "name": "python"
    }
  },
  "cells": [
    {
      "cell_type": "markdown",
      "metadata": {
        "id": "view-in-github",
        "colab_type": "text"
      },
      "source": [
        "<a href=\"https://colab.research.google.com/github/Yash8743/qml/blob/main/TASK_2(QML).ipynb\" target=\"_parent\"><img src=\"https://colab.research.google.com/assets/colab-badge.svg\" alt=\"Open In Colab\"/></a>"
      ]
    },
    {
      "cell_type": "markdown",
      "source": [
        "**TASK 2: Pauli Matrices and Eigenvalues/Eigenvectors**"
      ],
      "metadata": {
        "id": "eowJ2Qiy77sB"
      }
    },
    {
      "cell_type": "markdown",
      "source": [
        "**Aim:** To analyze Pauli matrices through application on qubit states and eigenvalue decomposition."
      ],
      "metadata": {
        "id": "N1fQxfkw8JdQ"
      }
    },
    {
      "cell_type": "markdown",
      "source": [
        "**Mathematical Model**\n",
        "\n",
        "The Pauli matrices are a set of three 2×2 complex Hermitian and unitary matrices that are widely used in quantum mechanics, particularly in spin systems (spin-1/2 particles), quantum computing, and quantum information theory. They are denoted as σx​, σy​, and σz​, and are defined as follows:\n",
        "\n",
        "\n",
        "1.1. Eigenvalues and Eigenvectors of the Pauli Matrices\n",
        "Each Pauli matrix has eigenvalues λ = ±1 and corresponding eigenvectors:\n",
        "\n",
        "i.σx​ (Pauli-X Matrix)\n",
        "Eigenvalues: λ = +1, −1\n",
        "Eigenvectors:\n",
        "oFor λ = +1\n",
        "\n",
        "oFor λ = −1\n",
        "        \n",
        "ii.σy​ (Pauli-Y Matrix)\n",
        "Eigenvalues: λ = +1, −1\n",
        "Eigenvectors:\n",
        "oFor λ = +1\n",
        "\n",
        "\n",
        "oFor λ = −1\n",
        "\n",
        "\n",
        "iii.σz​ (Pauli-Z Matrix)\n",
        "Eigenvalues: λ = +1, −1\n",
        "Eigenvectors:\n",
        "oFor λ = +1\n",
        "\n",
        "\n",
        "oFor λ = −1\n",
        "\n"
      ],
      "metadata": {
        "id": "XB8xdOZRKplD"
      }
    },
    {
      "cell_type": "markdown",
      "source": [],
      "metadata": {
        "id": "ymSHq3DWK45K"
      }
    },
    {
      "cell_type": "code",
      "source": [
        "1.Mathematical Model\n",
        "The Pauli matrices are a set of three 2×2 complex Hermitian and unitary matrices that are widely used in quantum mechanics, particularly in spin systems (spin-1/2 particles), quantum computing, and quantum information theory. They are denoted as σx​, σy​, and σz​, and are defined as follows:\n",
        "\n",
        "\n",
        "1.1. Eigenvalues and Eigenvectors of the Pauli Matrices\n",
        "Each Pauli matrix has eigenvalues λ = ±1 and corresponding eigenvectors:\n",
        "\n",
        "i.σx​ (Pauli-X Matrix)\n",
        "Eigenvalues: λ = +1, −1\n",
        "Eigenvectors:\n",
        "oFor λ = +1\n",
        "\n",
        "oFor λ = −1\n",
        "\n",
        "ii.σy​ (Pauli-Y Matrix)\n",
        "Eigenvalues: λ = +1, −1\n",
        "Eigenvectors:\n",
        "oFor λ = +1\n",
        "\n",
        "\n",
        "oFor λ = −1\n",
        "\n",
        "\n",
        "iii.σz​ (Pauli-Z Matrix)\n",
        "Eigenvalues: λ = +1, −1\n",
        "Eigenvectors:\n",
        "oFor λ = +1\n",
        "\n",
        "\n",
        "oFor λ = −1\n",
        "\n",
        "\n",
        "2.Observations\n",
        "All three Pauli matrices have eigenvalues ±1.\n",
        "Their eigenvectors are orthonormal, i.e.,  ⟨+∣−⟩ = 0 and ⟨±∣±⟩ = 1.\n",
        "The eigenvectors of σx​ and σy​ are superpositions of the eigenvectors of σz​, reflecting the non-commutativity of the Pauli matrices ([σi​,σj​]=2iϵijk​σk​).\n",
        "\n",
        "3.Physical Interpretation\n",
        "In quantum mechanics, the Pauli matrices represent spin measurements along the x, y, and z axes for a spin-1/2 particle (like an electron). The eigenvalues ±1 correspond to the possible outcomes of a spin measurement (spin-up or spin-down), and the eigenvectors represent the spin states along the respective axes.\n",
        "\n",
        "4.Algorithm\n",
        "Define Pauli-X, Y, and Z matrices.\n",
        "Apply these matrices to |0⟩ and |1⟩ states.\n",
        "Use linear algebra to compute eigenvalues and eigenvectors.\n",
        "Print matrix properties.\n",
        "\n",
        "1.Observations\n",
        "All three Pauli matrices have eigenvalues ±1.\n",
        "Their eigenvectors are orthonormal, i.e.,  ⟨+∣−⟩ = 0 and ⟨±∣±⟩ = 1.\n",
        "The eigenvectors of σx​ and σy​ are superpositions of the eigenvectors of σz​, reflecting the non-commutativity of the Pauli matrices ([σi​,σj​]=2iϵijk​σk​).\n",
        "\n",
        "2.Physical Interpretation\n",
        "In quantum mechanics, the Pauli matrices represent spin measurements along the x, y, and z axes for a spin-1/2 particle (like an electron). The eigenvalues ±1 correspond to the possible outcomes of a spin measurement (spin-up or spin-down), and the eigenvectors represent the spin states along the respective axes.\n",
        "\n"
      ],
      "metadata": {
        "id": "mA9IPqwr4Zqg"
      },
      "execution_count": null,
      "outputs": []
    },
    {
      "cell_type": "markdown",
      "source": [
        "**1.Algorithm**\n",
        "\n",
        "Define Pauli-X, Y, and Z matrices.\n",
        "\n",
        "Apply these matrices to |0⟩ and |1⟩ states.\n",
        "\n",
        "Use linear algebra to compute eigenvalues and eigenvectors.\n",
        "\n",
        "Print matrix properties.\n"
      ],
      "metadata": {
        "id": "uXD0ov2IK_Zs"
      }
    },
    {
      "cell_type": "markdown",
      "source": [
        "**Program:**"
      ],
      "metadata": {
        "id": "03B9cuSr7ryB"
      }
    },
    {
      "cell_type": "code",
      "execution_count": null,
      "metadata": {
        "colab": {
          "base_uri": "https://localhost:8080/"
        },
        "id": "XCGUMIladzOm",
        "outputId": "c57485bb-2121-40d4-98a0-0899a766c2b3"
      },
      "outputs": [
        {
          "output_type": "stream",
          "name": "stdout",
          "text": [
            "\n",
            "==================================================\n",
            "TASK 2: PAULI MATRICES AND EIGEN-ANALYSIS\n",
            "==================================================\n",
            "Pauli-X matrix:\n",
            "[[0 1]\n",
            " [1 0]]\n",
            "\n",
            "Pauli-Y matrix:\n",
            "[[ 0.+0.j -0.-1.j]\n",
            " [ 0.+1.j  0.+0.j]]\n",
            "\n",
            "Pauli-Z matrix:\n",
            "[[ 1  0]\n",
            " [ 0 -1]]\n",
            "\n",
            "Applying Pauli-X to |0⟩: [0 1]\n",
            "Applying Pauli-X to |1⟩: [1 0]\n",
            "\n",
            "Pauli-X Eigenvalues: [ 1. -1.]\n",
            "Pauli-X Eigenvectors:\n",
            " λ=1.0: [0.70710678 0.70710678]\n",
            " λ=-1.0: [-0.70710678  0.70710678]\n",
            "\n",
            "Pauli-Y Eigenvalues: [ 1.+0.j -1.+0.j]\n",
            "Pauli-Y Eigenvectors:\n",
            " λ=1.0+0.0j: [-0.        -0.70710678j  0.70710678+0.j        ]\n",
            " λ=-1.0+0.0j: [0.70710678+0.j         0.        -0.70710678j]\n",
            "\n",
            "Pauli-Z Eigenvalues: [ 1. -1.]\n",
            "Pauli-Z Eigenvectors:\n",
            " λ=1.0: [1. 0.]\n",
            " λ=-1.0: [0. 1.]\n"
          ]
        }
      ],
      "source": [
        "print(\"\\n\" + \"=\"*50)\n",
        "print(\"TASK 2: PAULI MATRICES AND EIGEN-ANALYSIS\")\n",
        "print(\"=\"*50)\n",
        "# Define Pauli matrices\n",
        "import numpy as np\n",
        "from numpy.linalg import eig\n",
        "\n",
        "pauli_x = np.array([[0, 1], [1, 0]])\n",
        "pauli_y = np.array([[0, -1j], [1j, 0]])\n",
        "pauli_z = np.array([[1, 0], [0, -1]])\n",
        "print(\"Pauli-X matrix:\")\n",
        "print(pauli_x)\n",
        "print(\"\\nPauli-Y matrix:\")\n",
        "print(pauli_y)\n",
        "print(\"\\nPauli-Z matrix:\")\n",
        "print(pauli_z)\n",
        "# Apply to qubit states\n",
        "qubit_0 = np.array([1, 0]) # |0⟩\n",
        "qubit_1 = np.array([0, 1]) # |1⟩\n",
        "print(\"\\nApplying Pauli-X to |0⟩:\", pauli_x @ qubit_0)\n",
        "print(\"Applying Pauli-X to |1⟩:\", pauli_x @ qubit_1)\n",
        "# Compute eigenvalues and eigenvectors\n",
        "def analyze_operator(matrix, name):\n",
        "    eigenvals, eigenvecs = eig(matrix)\n",
        "    print(f\"\\n{name} Eigenvalues:\", eigenvals)\n",
        "    print(f\"{name} Eigenvectors:\")\n",
        "    for i, vec in enumerate(eigenvecs.T):\n",
        "        print(f\" λ={eigenvals[i]:.1f}: {vec}\")\n",
        "\n",
        "analyze_operator(pauli_x, \"Pauli-X\")\n",
        "analyze_operator(pauli_y, \"Pauli-Y\")\n",
        "analyze_operator(pauli_z, \"Pauli-Z\")"
      ]
    },
    {
      "cell_type": "markdown",
      "source": [
        "**Result:**\n",
        "\n",
        "Pauli matrices were applied, and their eigenvalues and eigenvectors were correctly determined.\n"
      ],
      "metadata": {
        "id": "DvlYlu5_6Keg"
      }
    }
  ]
}