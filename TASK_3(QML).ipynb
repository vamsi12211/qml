{
  "nbformat": 4,
  "nbformat_minor": 0,
  "metadata": {
    "colab": {
      "provenance": [],
      "authorship_tag": "ABX9TyMXb66jSbOU1kfVxOGlyRjk",
      "include_colab_link": true
    },
    "kernelspec": {
      "name": "python3",
      "display_name": "Python 3"
    },
    "language_info": {
      "name": "python"
    }
  },
  "cells": [
    {
      "cell_type": "markdown",
      "metadata": {
        "id": "view-in-github",
        "colab_type": "text"
      },
      "source": [
        "<a href=\"https://colab.research.google.com/github/Yash8743/qml/blob/main/TASK_3(QML).ipynb\" target=\"_parent\"><img src=\"https://colab.research.google.com/assets/colab-badge.svg\" alt=\"Open In Colab\"/></a>"
      ]
    },
    {
      "cell_type": "markdown",
      "source": [
        "**TASK 3: Bell States and Entanglement Entropy**"
      ],
      "metadata": {
        "id": "SeOOIrQs_GCC"
      }
    },
    {
      "cell_type": "markdown",
      "source": [
        "**Aim:**To construct Bell States via Tensor Products and Measuring Entanglement Entropy in\n",
        "Bipartite.\n",
        "1. Construct all four Bell states (|Φ⁺⟩, |Φ⁻⟩, |Ψ⁺⟩, |Ψ⁻⟩) using quantum gates (Hadamard and\n",
        "CNOT).\n",
        "2. Measure their entanglement entropy to verify that they are maximally entangled (entropy\n",
        "= 1).\n",
        "3. Compare with a product state (|00⟩) to confirm it has zero entanglement (entropy = 0).\n"
      ],
      "metadata": {
        "id": "VCZjk_z_89W5"
      }
    },
    {
      "cell_type": "markdown",
      "source": [
        "**Mathematical Model**\n",
        "\n",
        "1.1 Quantum Gates Representation\n",
        "a. Hadamard Gate (H)\n",
        " Transforms basis states:\n",
        "b. Identity Gate (I)\n",
        " Leaves qubit states unchanged.\n",
        "c. CNOT Gate\n",
        " Flips the target qubit if the control qubit is ∣1⟩.\n",
        "\n",
        "1.2 Bell States Construction\n",
        "Bell states are constructed by applying H to the first qubit followed by CNOT:\n",
        "a. |Φ\n",
        "ା\n",
        "⟩\n",
        " Constructed from ∣00⟩.\n",
        "b. |Φ\n",
        "ି\n",
        "⟩\n",
        " Constructed from ∣10⟩.\n",
        "c. |Ψ\n",
        "ା\n",
        "⟩\n",
        " Constructed from ∣01⟩.\n",
        "d. |Ψ\n",
        "ି\n",
        "⟩\n",
        " Constructed from ∣11⟩.\n",
        "\n",
        "1.3 Partial Trace Operation\n",
        "Given a density matrix ρ for a bipartite system A⊗B, the partial trace over subsystem B is\n",
        "where {∣k⟩B} is a basis for B.\n",
        "\n",
        "1.4 Entanglement Entropy (Von Neumann Entropy)\n",
        "For a pure bipartite state ∣ψ⟩AB, the entanglement entropy is the von Neumann entropy of the\n",
        "reduced density matrix ρA=TrB(∣ψ⟩⟨ψ∣).\n",
        "where λi are the eigenvalues of ρA"
      ],
      "metadata": {
        "id": "B7LBzeInAbFx"
      }
    },
    {
      "cell_type": "markdown",
      "source": [
        "**2. Algorithm:**"
      ],
      "metadata": {
        "id": "GQm2wpF3-KNK"
      }
    },
    {
      "cell_type": "markdown",
      "source": [
        " 1.Define quantum gates\n",
        "\n",
        " 2.Create entangled Bell states using tensor products.\n",
        "\n",
        " 3,Reshape the states for partial trace computation.\n",
        "\n",
        " 4.Calculate entanglement entropy of bipartite state\n",
        "\n",
        " 5.Compute eigenvalues (using eigh for Hermitian matrices)\n",
        "\n",
        " 6.Compute von Neumann entropy."
      ],
      "metadata": {
        "id": "PQxHEkZL-twR"
      }
    },
    {
      "cell_type": "markdown",
      "source": [
        "**3. Program:**"
      ],
      "metadata": {
        "id": "DKzz2s4j-U_x"
      }
    },
    {
      "cell_type": "code",
      "execution_count": null,
      "metadata": {
        "colab": {
          "base_uri": "https://localhost:8080/"
        },
        "id": "5r1ss71peLZm",
        "outputId": "4d703e5a-cee2-4e53-eee6-acd730a53856"
      },
      "outputs": [
        {
          "output_type": "stream",
          "name": "stdout",
          "text": [
            "\n",
            "==================================================\n",
            "TASK 3: BELL STATES AND ENTANGLEMENT ENTROPY\n",
            "==================================================\n",
            "Bell state |Φ⁺⟩ = [0.70710678 0.         0.         0.70710678]\n",
            "Bell state |Φ⁻⟩ = [ 0.70710678  0.          0.         -0.70710678]\n",
            "Bell state |Ψ⁺⟩ = [0.         0.70710678 0.70710678 0.        ]\n",
            "Bell state |Ψ⁻⟩ = [ 0.          0.70710678 -0.70710678  0.        ]\n",
            "Entanglement entropy of |Φ⁺⟩: 1.0000\n",
            "Entanglement entropy of |Φ⁻⟩: 1.0000\n",
            "Entanglement entropy of |Ψ⁺⟩: 1.0000\n",
            "Entanglement entropy of |Ψ⁻⟩: 1.0000\n",
            "Entanglement entropy of |00⟩: 0.0000\n"
          ]
        }
      ],
      "source": [
        "import numpy as np\n",
        "from math import log2, sqrt\n",
        "print(\"\\n\" + \"=\"*50)\n",
        "print(\"TASK 3: BELL STATES AND ENTANGLEMENT ENTROPY\")\n",
        "print(\"=\"*50)\n",
        "# Define quantum gates\n",
        "H = 1/sqrt(2) * np.array([[1, 1], [1, -1]]) # Hadamard gate\n",
        "I = np.eye(2) # Identity gate\n",
        "CNOT = np.array([[1,0,0,0], [0,1,0,0], [0,0,0,1], [0,0,1,0]]) # CNOT gate\n",
        "class BellStates:\n",
        "    @staticmethod\n",
        "    def phi_plus():\n",
        "        \"\"\"Construct |Φ⁺⟩ = (|00⟩ + |11⟩)/√2\"\"\"\n",
        "        state = np.kron([1, 0], [1, 0]) # |00⟩\n",
        "        state = np.kron(H, I) @ state # Apply H to first qubit\n",
        "        return CNOT @ state # Apply CNOT\n",
        "\n",
        "    @staticmethod\n",
        "    def phi_minus():\n",
        "        \"\"\"Construct |Φ⁻⟩ = (|00⟩ - |11⟩)/√2\"\"\"\n",
        "        state = np.kron([0, 1], [1, 0]) # |10⟩\n",
        "        state = np.kron(H, I) @ state\n",
        "        return CNOT @ state\n",
        "\n",
        "    @staticmethod\n",
        "    def psi_plus():\n",
        "        \"\"\"Construct |Ψ⁺⟩ = (|01⟩ + |10⟩)/√2\"\"\"\n",
        "        state = np.kron([1, 0], [0, 1]) # |01⟩\n",
        "        state = np.kron(H, I) @ state\n",
        "        return CNOT @ state\n",
        "\n",
        "    @staticmethod\n",
        "    def psi_minus():\n",
        "        \"\"\"Construct |Ψ⁻⟩ = (|01⟩ - |10⟩)/√2\"\"\"\n",
        "        state = np.kron([0, 1], [0, 1]) # |11⟩\n",
        "        state = np.kron(H, I) @ state\n",
        "        return CNOT @ state\n",
        "def partial_trace(rho, dims, axis=0):\n",
        "    \"\"\"\n",
        "    Compute partial trace of density matrix rho\n",
        "    dims: list of dimensions of each subsystem [dA, dB]\n",
        "    axis: 0 for tracing out B, 1 for tracing out A\n",
        "    \"\"\"\n",
        "    dA, dB = dims\n",
        "    if axis == 0: # Trace out B\n",
        "        rho_reduced = np.zeros((dA, dA), dtype=complex)\n",
        "        for i in range(dA):\n",
        "            for j in range(dA):\n",
        "                for k in range(dB):\n",
        "                    rho_reduced[i,j] += rho[i*dB + k, j*dB + k]\n",
        "    else: # Trace out A\n",
        "        rho_reduced = np.zeros((dB, dB), dtype=complex)\n",
        "        for i in range(dB):\n",
        "            for j in range(dB):\n",
        "                for k in range(dA):\n",
        "                    rho_reduced[i,j] += rho[k*dB + i, k*dB + j]\n",
        "    return rho_reduced\n",
        "def entanglement_entropy(state):\n",
        "    \"\"\"\n",
        "    Calculate entanglement entropy of bipartite state\n",
        "    Input: state vector or density matrix\n",
        "    Output: entanglement entropy\n",
        "    \"\"\"\n",
        "    # Convert state to density matrix if it's a state vector\n",
        "    if state.ndim == 1:\n",
        "        rho = np.outer(state, state.conj())\n",
        "    else:\n",
        "        rho = state\n",
        "\n",
        "    # Partial trace over subsystem B (assuming 2-qubit system)\n",
        "    rho_A = partial_trace(rho, [2, 2], axis=1)\n",
        "\n",
        "    # Compute eigenvalues (using eigh for Hermitian matrices)\n",
        "    eigvals = np.linalg.eigvalsh(rho_A)\n",
        "\n",
        "    # Calculate von Neumann entropy\n",
        "    entropy = 0.0\n",
        "    for lamda in eigvals:\n",
        "        if lamda > 1e-10: # avoid log(0)\n",
        "            entropy -= lamda * log2(lamda)\n",
        "\n",
        "    return entropy\n",
        "# Example usage\n",
        "if __name__ == \"__main__\":\n",
        "    # Construct Bell states\n",
        "    phi_p = BellStates.phi_plus()\n",
        "    phi_m = BellStates.phi_minus()\n",
        "    psi_p = BellStates.psi_plus()\n",
        "    psi_m = BellStates.psi_minus()\n",
        "    print(f\"Bell state |Φ⁺⟩ =\", phi_p)\n",
        "    print(f\"Bell state |Φ⁻⟩ =\", phi_m)\n",
        "    print(f\"Bell state |Ψ⁺⟩ =\", psi_p)\n",
        "    print(f\"Bell state |Ψ⁻⟩ =\", psi_m)\n",
        "    # Verify entanglement entropy (should be 1 for maximally entangled states)\n",
        "    print(f\"Entanglement entropy of |Φ⁺⟩: {entanglement_entropy(phi_p):.4f}\")\n",
        "    print(f\"Entanglement entropy of |Φ⁻⟩: {entanglement_entropy(phi_m):.4f}\")\n",
        "    print(f\"Entanglement entropy of |Ψ⁺⟩: {entanglement_entropy(psi_p):.4f}\")\n",
        "    print(f\"Entanglement entropy of |Ψ⁻⟩: {entanglement_entropy(psi_m):.4f}\")\n",
        "\n",
        "    # Verify product state has zero entanglement entropy\n",
        "    product_state = np.kron([1, 0], [1, 0]) # |00⟩\n",
        "    print(f\"Entanglement entropy of |00⟩: {entanglement_entropy(product_state):.4f}\")"
      ]
    },
    {
      "cell_type": "code",
      "source": [
        "!pip install qiskit\n",
        "!pip install qiskit-aer"
      ],
      "metadata": {
        "colab": {
          "base_uri": "https://localhost:8080/"
        },
        "id": "RSshTjQMeaF2",
        "outputId": "f2a2541d-467f-47ff-89e6-e52c3b6a590b"
      },
      "execution_count": null,
      "outputs": [
        {
          "output_type": "stream",
          "name": "stdout",
          "text": [
            "Collecting qiskit\n",
            "  Downloading qiskit-2.2.1-cp39-abi3-manylinux2014_x86_64.manylinux_2_17_x86_64.whl.metadata (12 kB)\n",
            "Collecting rustworkx>=0.15.0 (from qiskit)\n",
            "  Downloading rustworkx-0.17.1-cp39-abi3-manylinux_2_17_x86_64.manylinux2014_x86_64.whl.metadata (10 kB)\n",
            "Requirement already satisfied: numpy<3,>=1.17 in /usr/local/lib/python3.12/dist-packages (from qiskit) (2.0.2)\n",
            "Requirement already satisfied: scipy>=1.5 in /usr/local/lib/python3.12/dist-packages (from qiskit) (1.16.2)\n",
            "Requirement already satisfied: dill>=0.3 in /usr/local/lib/python3.12/dist-packages (from qiskit) (0.3.8)\n",
            "Collecting stevedore>=3.0.0 (from qiskit)\n",
            "  Downloading stevedore-5.5.0-py3-none-any.whl.metadata (2.2 kB)\n",
            "Requirement already satisfied: typing-extensions in /usr/local/lib/python3.12/dist-packages (from qiskit) (4.15.0)\n",
            "Downloading qiskit-2.2.1-cp39-abi3-manylinux2014_x86_64.manylinux_2_17_x86_64.whl (8.0 MB)\n",
            "\u001b[2K   \u001b[90m━━━━━━━━━━━━━━━━━━━━━━━━━━━━━━━━━━━━━━━━\u001b[0m \u001b[32m8.0/8.0 MB\u001b[0m \u001b[31m61.6 MB/s\u001b[0m eta \u001b[36m0:00:00\u001b[0m\n",
            "\u001b[?25hDownloading rustworkx-0.17.1-cp39-abi3-manylinux_2_17_x86_64.manylinux2014_x86_64.whl (2.2 MB)\n",
            "\u001b[2K   \u001b[90m━━━━━━━━━━━━━━━━━━━━━━━━━━━━━━━━━━━━━━━━\u001b[0m \u001b[32m2.2/2.2 MB\u001b[0m \u001b[31m75.1 MB/s\u001b[0m eta \u001b[36m0:00:00\u001b[0m\n",
            "\u001b[?25hDownloading stevedore-5.5.0-py3-none-any.whl (49 kB)\n",
            "\u001b[2K   \u001b[90m━━━━━━━━━━━━━━━━━━━━━━━━━━━━━━━━━━━━━━━━\u001b[0m \u001b[32m49.5/49.5 kB\u001b[0m \u001b[31m3.5 MB/s\u001b[0m eta \u001b[36m0:00:00\u001b[0m\n",
            "\u001b[?25hInstalling collected packages: stevedore, rustworkx, qiskit\n",
            "Successfully installed qiskit-2.2.1 rustworkx-0.17.1 stevedore-5.5.0\n",
            "Collecting qiskit-aer\n",
            "  Downloading qiskit_aer-0.17.2-cp312-cp312-manylinux_2_17_x86_64.manylinux2014_x86_64.whl.metadata (8.3 kB)\n",
            "Requirement already satisfied: qiskit>=1.1.0 in /usr/local/lib/python3.12/dist-packages (from qiskit-aer) (2.2.1)\n",
            "Requirement already satisfied: numpy>=1.16.3 in /usr/local/lib/python3.12/dist-packages (from qiskit-aer) (2.0.2)\n",
            "Requirement already satisfied: scipy>=1.0 in /usr/local/lib/python3.12/dist-packages (from qiskit-aer) (1.16.2)\n",
            "Requirement already satisfied: psutil>=5 in /usr/local/lib/python3.12/dist-packages (from qiskit-aer) (5.9.5)\n",
            "Requirement already satisfied: python-dateutil>=2.8.0 in /usr/local/lib/python3.12/dist-packages (from qiskit-aer) (2.9.0.post0)\n",
            "Requirement already satisfied: six>=1.5 in /usr/local/lib/python3.12/dist-packages (from python-dateutil>=2.8.0->qiskit-aer) (1.17.0)\n",
            "Requirement already satisfied: rustworkx>=0.15.0 in /usr/local/lib/python3.12/dist-packages (from qiskit>=1.1.0->qiskit-aer) (0.17.1)\n",
            "Requirement already satisfied: dill>=0.3 in /usr/local/lib/python3.12/dist-packages (from qiskit>=1.1.0->qiskit-aer) (0.3.8)\n",
            "Requirement already satisfied: stevedore>=3.0.0 in /usr/local/lib/python3.12/dist-packages (from qiskit>=1.1.0->qiskit-aer) (5.5.0)\n",
            "Requirement already satisfied: typing-extensions in /usr/local/lib/python3.12/dist-packages (from qiskit>=1.1.0->qiskit-aer) (4.15.0)\n",
            "Downloading qiskit_aer-0.17.2-cp312-cp312-manylinux_2_17_x86_64.manylinux2014_x86_64.whl (12.4 MB)\n",
            "\u001b[2K   \u001b[90m━━━━━━━━━━━━━━━━━━━━━━━━━━━━━━━━━━━━━━━━\u001b[0m \u001b[32m12.4/12.4 MB\u001b[0m \u001b[31m51.8 MB/s\u001b[0m eta \u001b[36m0:00:00\u001b[0m\n",
            "\u001b[?25hInstalling collected packages: qiskit-aer\n",
            "Successfully installed qiskit-aer-0.17.2\n"
          ]
        }
      ]
    },
    {
      "cell_type": "code",
      "source": [
        "import numpy as np\n",
        "from math import log2, sqrt"
      ],
      "metadata": {
        "id": "dThC6RfleeIN"
      },
      "execution_count": null,
      "outputs": []
    },
    {
      "cell_type": "code",
      "source": [
        "\n",
        "H = 1/sqrt(2) * np.array([[1, 1], [1, -1]])\n",
        "I = np.eye(2)\n",
        "CNOT = np.array([[1,0,0,0], [0,1,0,0], [0,0,0,1], [0,0,1,0]])"
      ],
      "metadata": {
        "id": "FlI3iHFSerKQ"
      },
      "execution_count": null,
      "outputs": []
    },
    {
      "cell_type": "code",
      "source": [
        "class BellStates:\n",
        "    @staticmethod\n",
        "    def phi_plus():\n",
        "        \"\"\"Construct |Φ⁺⟩ = (|00⟩ + |11⟩)/√2\"\"\"\n",
        "        state = np.kron([1, 0], [1, 0])  # |00⟩\n",
        "        state = np.kron(H, I) @ state    # Apply H to first qubit\n",
        "        return CNOT @ state              # Apply CNOT\n",
        "\n",
        "    @staticmethod\n",
        "    def phi_minus():\n",
        "        \"\"\"Construct |Φ⁻⟩ = (|00⟩ - |11⟩)/√2\"\"\"\n",
        "        state = np.kron([0, 1], [1, 0])  # |10⟩\n",
        "        state = np.kron(H, I) @ state\n",
        "        return CNOT @ state\n",
        "\n",
        "    @staticmethod\n",
        "    def psi_plus():\n",
        "        \"\"\"Construct |Ψ⁺⟩ = (|01⟩ + |10⟩)/√2\"\"\"\n",
        "        state = np.kron([1, 0], [0, 1])  # |01⟩\n",
        "        state = np.kron(H, I) @ state\n",
        "        return CNOT @ state\n",
        "\n",
        "    @staticmethod\n",
        "    def psi_minus():\n",
        "        \"\"\"Construct |Ψ⁻⟩ = (|01⟩ - |10⟩)/√2\"\"\"\n",
        "        state = np.kron([0, 1], [0, 1])  # |11⟩\n",
        "        state = np.kron(H, I) @ state\n",
        "        return CNOT @ state"
      ],
      "metadata": {
        "id": "Ba7JP4XQexYc"
      },
      "execution_count": null,
      "outputs": []
    },
    {
      "cell_type": "code",
      "source": [
        "def partial_trace(rho, dims, axis=0):\n",
        "    \"\"\"\n",
        "    Compute partial trace of density matrix rho\n",
        "    dims: list of dimensions of each subsystem [dA, dB]\n",
        "    axis: 0 for tracing out B, 1 for tracing out A\n",
        "    \"\"\"\n",
        "    dA, dB = dims\n",
        "    if axis == 0:  # Trace out B\n",
        "        rho_reduced = np.zeros((dA, dA), dtype=complex)\n",
        "        for i in range(dA):\n",
        "            for j in range(dA):\n",
        "                for k in range(dB):\n",
        "                    rho_reduced[i,j] += rho[i*dB + k, j*dB + k]\n",
        "    else:  # Trace out A\n",
        "        rho_reduced = np.zeros((dB, dB), dtype=complex)\n",
        "        for i in range(dB):\n",
        "            for j in range(dB):\n",
        "                for k in range(dA):\n",
        "                    rho_reduced[i,j] += rho[k*dB + i, k*dB + j]\n",
        "    return rho_reduced"
      ],
      "metadata": {
        "id": "fhpOOYtue0lq"
      },
      "execution_count": null,
      "outputs": []
    },
    {
      "cell_type": "code",
      "source": [
        "def entanglement_entropy(state):\n",
        "    \"\"\"\n",
        "    Calculate entanglement entropy of bipartite state\n",
        "    Input: state vector or density matrix\n",
        "    Output: entanglement entropy\n",
        "    \"\"\"\n",
        "    # Convert state to density matrix if it's a state vector\n",
        "    if state.ndim == 1:\n",
        "        rho = np.outer(state, state.conj())\n",
        "    else:\n",
        "        rho = state\n",
        "\n",
        "     # Partial trace over subsystem B (assuming 2-qubit system)\n",
        "    rho_A = partial_trace(rho, [2, 2], axis=1)\n",
        "\n",
        "    # Compute eigenvalues (using eigh for Hermitian matrices)\n",
        "    eigvals = np.linalg.eigvalsh(rho_A)\n",
        "\n",
        "    # Calculate von Neumann entropy\n",
        "    entropy = 0.0\n",
        "    for lamda in eigvals:\n",
        "        if lamda > 1e-10:  # avoid log(0)\n",
        "            entropy -= lamda * log2(lamda)\n",
        "\n",
        "    return entropy"
      ],
      "metadata": {
        "id": "Lc7P1VhYe5Ya"
      },
      "execution_count": null,
      "outputs": []
    },
    {
      "cell_type": "code",
      "source": [
        "if __name__ == \"__main__\":\n",
        "    # Construct Bell states\n",
        "    phi_p = BellStates.phi_plus()\n",
        "    phi_m = BellStates.phi_minus()\n",
        "    psi_p = BellStates.psi_plus()\n",
        "    psi_m = BellStates.psi_minus()\n",
        "\n",
        "    print(\"\\n\" + \"=\"*50)\n",
        "    print(\"TASK 3: BELL STATES AND ENTANGLEMENT ENTROPY\")\n",
        "    print(\"=\"*50)\n",
        "\n",
        "    print(f\"Bell state |Φ⁺⟩ =\", phi_p)\n",
        "    print(f\"Bell state |Φ⁻⟩ =\", phi_m)\n",
        "    print(f\"Bell state |Ψ⁺⟩ =\", psi_p)\n",
        "    print(f\"Bell state |Ψ⁻⟩ =\", psi_m)\n",
        "\n",
        "   # Verify entanglement entropy (should be 1 for maximally entangled states)\n",
        "    print(f\"Entanglement entropy of |Φ⁺⟩: {entanglement_entropy(phi_p):.4f}\")\n",
        "    print(f\"Entanglement entropy of |Φ⁻⟩: {entanglement_entropy(phi_m):.4f}\")\n",
        "    print(f\"Entanglement entropy of |Ψ⁺⟩: {entanglement_entropy(psi_p):.4f}\")\n",
        "    print(f\"Entanglement entropy of |Ψ⁻⟩: {entanglement_entropy(psi_m):.4f}\")\n",
        "\n",
        "    # Verify product state has zero entanglement entropy\n",
        "    product_state = np.kron([1, 0], [1, 0])  # |00⟩\n",
        "    print(f\"Entanglement entropy of |00⟩: {entanglement_entropy(product_state):.4f}\")\n"
      ],
      "metadata": {
        "colab": {
          "base_uri": "https://localhost:8080/"
        },
        "id": "Q7-WQcaCe_Mz",
        "outputId": "190f0f56-e8e1-4685-ced1-b39c28e20a00"
      },
      "execution_count": null,
      "outputs": [
        {
          "output_type": "stream",
          "name": "stdout",
          "text": [
            "\n",
            "==================================================\n",
            "TASK 3: BELL STATES AND ENTANGLEMENT ENTROPY\n",
            "==================================================\n",
            "Bell state |Φ⁺⟩ = [0.70710678 0.         0.         0.70710678]\n",
            "Bell state |Φ⁻⟩ = [ 0.70710678  0.          0.         -0.70710678]\n",
            "Bell state |Ψ⁺⟩ = [0.         0.70710678 0.70710678 0.        ]\n",
            "Bell state |Ψ⁻⟩ = [ 0.          0.70710678 -0.70710678  0.        ]\n",
            "Entanglement entropy of |Φ⁺⟩: 1.0000\n",
            "Entanglement entropy of |Φ⁻⟩: 1.0000\n",
            "Entanglement entropy of |Ψ⁺⟩: 1.0000\n",
            "Entanglement entropy of |Ψ⁻⟩: 1.0000\n",
            "Entanglement entropy of |00⟩: 0.0000\n"
          ]
        }
      ]
    },
    {
      "cell_type": "code",
      "source": [
        "from qiskit import QuantumCircuit\n",
        "from qiskit.quantum_info import Statevector, partial_trace, entropy\n",
        "from qiskit_aer import AerSimulator\n",
        "import numpy as np\n",
        "import pandas as pd\n",
        "\n",
        "# Initialize simulator\n",
        "simulator = AerSimulator()\n",
        "\n",
        "def create_bell_state(bell_type):\n",
        "    qc = QuantumCircuit(2)\n",
        "    qc.h(0)\n",
        "    qc.cx(0, 1)\n",
        "    if bell_type == 'phi_minus':\n",
        "        qc.z(0)\n",
        "    elif bell_type == 'psi_plus':\n",
        "        qc.x(1)\n",
        "    elif bell_type == 'psi_minus':\n",
        "        qc.z(0)\n",
        "        qc.x(1)\n",
        "    return qc\n",
        "\n",
        "def calculate_entropy(qc):\n",
        "    statevector = Statevector.from_instruction(qc)\n",
        "    rho = partial_trace(statevector, [1])\n",
        "    return entropy(rho, base=2)\n",
        "\n",
        "state_data = []\n",
        "states = {\n",
        "    'phi_plus': '|Φ⁺⟩',\n",
        "    'phi_minus': '|Φ⁻⟩',\n",
        "    'psi_plus': '|Ψ⁺⟩',\n",
        "    'psi_minus': '|Ψ⁻⟩',\n",
        "    'product': '|00⟩'\n",
        "}\n",
        "\n",
        "print(\"Bell States Construction and Entanglement Analysis\")\n",
        "print(\"=\"*50)\n",
        "\n",
        "for key, label in states.items():\n",
        "    if key == 'product':\n",
        "        qc = QuantumCircuit(2)\n",
        "        print(\"\\nProduct State:\")\n",
        "    else:\n",
        "        qc = create_bell_state(key)\n",
        "        print(f\"\\nBell State {label}:\")\n",
        "\n",
        "    # Display circuit\n",
        "    print(\"Quantum Circuit:\")\n",
        "    print(qc)\n",
        "\n",
        "    # Calculate and display results\n",
        "    entropy_val = calculate_entropy(qc)\n",
        "    statevector = Statevector.from_instruction(qc)\n",
        "\n",
        "    print(\"\\nStatevector:\")\n",
        "    print(np.round(statevector.data, 3))\n",
        "\n",
        "    print(f\"Entanglement Entropy: {round(entropy_val, 3)}\")\n",
        "    print(\"-\"*40)\n",
        "\n",
        "    state_data.append({\n",
        "        'State': label,\n",
        "        'Entanglement Entropy': round(entropy_val, 3),\n",
        "        'Score (out of 1)': f\"{round(entropy_val, 3)}/1\"\n",
        "    })\n",
        "\n",
        "# Create and display summary table\n",
        "print(\"\\nSummary Table:\")\n",
        "print(\"=\"*50)\n",
        "df = pd.DataFrame(state_data)\n",
        "print(df.to_string(index=False))"
      ],
      "metadata": {
        "colab": {
          "base_uri": "https://localhost:8080/"
        },
        "id": "OMy9stfxfG84",
        "outputId": "de5f75eb-255c-46a2-ff84-e0e2003bbb06"
      },
      "execution_count": null,
      "outputs": [
        {
          "output_type": "stream",
          "name": "stdout",
          "text": [
            "Bell States Construction and Entanglement Analysis\n",
            "==================================================\n",
            "\n",
            "Bell State |Φ⁺⟩:\n",
            "Quantum Circuit:\n",
            "     ┌───┐     \n",
            "q_0: ┤ H ├──■──\n",
            "     └───┘┌─┴─┐\n",
            "q_1: ─────┤ X ├\n",
            "          └───┘\n",
            "\n",
            "Statevector:\n",
            "[0.707+0.j 0.   +0.j 0.   +0.j 0.707+0.j]\n",
            "Entanglement Entropy: 1.0\n",
            "----------------------------------------\n",
            "\n",
            "Bell State |Φ⁻⟩:\n",
            "Quantum Circuit:\n",
            "     ┌───┐     ┌───┐\n",
            "q_0: ┤ H ├──■──┤ Z ├\n",
            "     └───┘┌─┴─┐└───┘\n",
            "q_1: ─────┤ X ├─────\n",
            "          └───┘     \n",
            "\n",
            "Statevector:\n",
            "[ 0.707+0.j  0.   +0.j  0.   +0.j -0.707+0.j]\n",
            "Entanglement Entropy: 1.0\n",
            "----------------------------------------\n",
            "\n",
            "Bell State |Ψ⁺⟩:\n",
            "Quantum Circuit:\n",
            "     ┌───┐          \n",
            "q_0: ┤ H ├──■───────\n",
            "     └───┘┌─┴─┐┌───┐\n",
            "q_1: ─────┤ X ├┤ X ├\n",
            "          └───┘└───┘\n",
            "\n",
            "Statevector:\n",
            "[0.   +0.j 0.707+0.j 0.707+0.j 0.   +0.j]\n",
            "Entanglement Entropy: 1.0\n",
            "----------------------------------------\n",
            "\n",
            "Bell State |Ψ⁻⟩:\n",
            "Quantum Circuit:\n",
            "     ┌───┐     ┌───┐\n",
            "q_0: ┤ H ├──■──┤ Z ├\n",
            "     └───┘┌─┴─┐├───┤\n",
            "q_1: ─────┤ X ├┤ X ├\n",
            "          └───┘└───┘\n",
            "\n",
            "Statevector:\n",
            "[ 0.   +0.j -0.707+0.j  0.707+0.j  0.   +0.j]\n",
            "Entanglement Entropy: 1.0\n",
            "----------------------------------------\n",
            "\n",
            "Product State:\n",
            "Quantum Circuit:\n",
            "     \n",
            "q_0: \n",
            "     \n",
            "q_1: \n",
            "     \n",
            "\n",
            "Statevector:\n",
            "[1.+0.j 0.+0.j 0.+0.j 0.+0.j]\n",
            "Entanglement Entropy: 0.0\n",
            "----------------------------------------\n",
            "\n",
            "Summary Table:\n",
            "==================================================\n",
            "State  Entanglement Entropy Score (out of 1)\n",
            " |Φ⁺⟩                   1.0            1.0/1\n",
            " |Φ⁻⟩                   1.0            1.0/1\n",
            " |Ψ⁺⟩                   1.0            1.0/1\n",
            " |Ψ⁻⟩                   1.0            1.0/1\n",
            " |00⟩                   0.0            0.0/1\n"
          ]
        }
      ]
    },
    {
      "cell_type": "markdown",
      "source": [
        "**4. Result:**\n",
        "Bell states were constructed and their entanglement entropy was accurately calculated"
      ],
      "metadata": {
        "id": "2fhJK_Us-Z34"
      }
    }
  ]
}